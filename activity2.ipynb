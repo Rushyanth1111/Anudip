{
 "cells": [
  {
   "cell_type": "code",
   "execution_count": 2,
   "id": "ce1b418b-162a-4041-a12c-e287fcba1dbf",
   "metadata": {},
   "outputs": [
    {
     "name": "stdout",
     "output_type": "stream",
     "text": [
      "True\n",
      "False\n",
      "True\n"
     ]
    }
   ],
   "source": [
    "def is_palindrome(s):\n",
    "\n",
    "    s = s.replace(\" \", \"\").lower()\n",
    "    \n",
    "  \n",
    "    return s == s[::-1]\n",
    "\n",
    "\n",
    "print(is_palindrome(\"madam\"))    \n",
    "print(is_palindrome(\"hello\"))    \n",
    "print(is_palindrome(\"racecar\")) \n"
   ]
  },
  {
   "cell_type": "code",
   "execution_count": 3,
   "id": "71186a0d-48aa-47df-a076-978804687af4",
   "metadata": {},
   "outputs": [
    {
     "name": "stdout",
     "output_type": "stream",
     "text": [
      "25\n"
     ]
    }
   ],
   "source": [
    "def find_largest(numbers):\n",
    "    return max(numbers)\n",
    "\n",
    "# Example usage:\n",
    "numbers = [10, 20, 5, 8, 25, 3]\n",
    "largest_number = find_largest(numbers)\n",
    "print(largest_number)\n"
   ]
  },
  {
   "cell_type": "code",
   "execution_count": 4,
   "id": "a2ab85d8-45ae-473c-861e-13b03f19b294",
   "metadata": {},
   "outputs": [
    {
     "name": "stdout",
     "output_type": "stream",
     "text": [
      "3\n",
      "1\n",
      "6\n"
     ]
    }
   ],
   "source": [
    "def count_vowel(s):\n",
    "    vowels = \"aeiouAEIOU\"\n",
    "    count = 0\n",
    "    for char in s:\n",
    "        if char in vowels:\n",
    "            count += 1\n",
    "    return count\n",
    "\n",
    "# Example usage:\n",
    "print(count_vowel(\"Hello world\"))   \n",
    "print(count_vowel(\"python\"))        \n",
    "print(count_vowel(\"Beautiful Day\")) \n"
   ]
  },
  {
   "cell_type": "code",
   "execution_count": null,
   "id": "16697814-f88a-4c2d-a1d6-68d05a518cc8",
   "metadata": {},
   "outputs": [],
   "source": []
  }
 ],
 "metadata": {
  "kernelspec": {
   "display_name": "Python 3 (ipykernel)",
   "language": "python",
   "name": "python3"
  },
  "language_info": {
   "codemirror_mode": {
    "name": "ipython",
    "version": 3
   },
   "file_extension": ".py",
   "mimetype": "text/x-python",
   "name": "python",
   "nbconvert_exporter": "python",
   "pygments_lexer": "ipython3",
   "version": "3.11.7"
  }
 },
 "nbformat": 4,
 "nbformat_minor": 5
}
