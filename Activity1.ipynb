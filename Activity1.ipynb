{
 "cells": [
  {
   "cell_type": "code",
   "execution_count": 1,
   "id": "9832caa5-daa4-4939-aa6c-632b69608847",
   "metadata": {},
   "outputs": [],
   "source": [
    "                                         #ASSIGNMENT QUETIONS\n"
   ]
  },
  {
   "cell_type": "code",
   "execution_count": 2,
   "id": "cc31f9cd-e117-4983-b912-70c2d8a1025d",
   "metadata": {},
   "outputs": [
    {
     "name": "stdin",
     "output_type": "stream",
     "text": [
      "Enter the first number:  3\n",
      "Enter the second number:  4\n"
     ]
    },
    {
     "name": "stdout",
     "output_type": "stream",
     "text": [
      "The Sum of two numbers are:  7\n",
      "The Product of two numbers are:  12\n"
     ]
    }
   ],
   "source": [
    "#1. Calculate the multiplication and sum of two numbers\n",
    "a=int(input(\"Enter the first number: \"))\n",
    "b=int(input(\"Enter the second number: \"))\n",
    "sum=a+b\n",
    "pro=a*b\n",
    "print(\"The Sum of two numbers are: \",sum)\n",
    "print(\"The Product of two numbers are: \",pro)"
   ]
  },
  {
   "cell_type": "code",
   "execution_count": 6,
   "id": "dbd4dd07-cac5-4c2a-9442-50e6274a3620",
   "metadata": {},
   "outputs": [
    {
     "name": "stdin",
     "output_type": "stream",
     "text": [
      "Enter the first number:  2\n",
      "Enter the second number:  3\n"
     ]
    },
    {
     "name": "stdout",
     "output_type": "stream",
     "text": [
      "The Largest number is:  3\n"
     ]
    }
   ],
   "source": [
    "#2. Declare two variables and print that which variable is largest using ternary operators\n",
    "x=int(input(\"Enter the first number: \"))\n",
    "y=int(input(\"Enter the second number: \"))\n",
    "lar= x if x>y else y\n",
    "print(\"The Largest number is: \",lar)"
   ]
  },
  {
   "cell_type": "code",
   "execution_count": 7,
   "id": "36fd0947-0bac-4e07-86c5-fc4a8644779f",
   "metadata": {},
   "outputs": [
    {
     "name": "stdin",
     "output_type": "stream",
     "text": [
      "Enter your name:  hugb\n",
      "Enter your age:  3\n",
      "Enter your city:  r33e\n"
     ]
    },
    {
     "name": "stdout",
     "output_type": "stream",
     "text": [
      "My name is hugb,I am 3 years old,I belong to r33e city\n"
     ]
    }
   ],
   "source": [
    "#3.Take input from the user (name, age, and city) and print it in a formatted string.\n",
    "x=input(\"Enter your name: \")\n",
    "y=int(input(\"Enter your age: \"))\n",
    "z=input(\"Enter your city: \")\n",
    "print(f\"My name is {x},I am {y} years old,I belong to {z} city\")"
   ]
  },
  {
   "cell_type": "code",
   "execution_count": 8,
   "id": "1f616272-5b9f-41c7-8d92-308984a9b576",
   "metadata": {},
   "outputs": [
    {
     "name": "stdin",
     "output_type": "stream",
     "text": [
      "Enter the base of triangle:  34\n",
      "Enter the height of triangle:  34\n"
     ]
    },
    {
     "name": "stdout",
     "output_type": "stream",
     "text": [
      "The Area of triangle is:  578.0\n"
     ]
    }
   ],
   "source": [
    "#4. Python program to find the area of a triangle whose sides are given\n",
    "x=int(input(\"Enter the base of triangle: \"))\n",
    "y=int(input(\"Enter the height of triangle: \"))\n",
    "area=1/2*x*y\n",
    "print(\"The Area of triangle is: \",area)"
   ]
  },
  {
   "cell_type": "code",
   "execution_count": 1,
   "id": "8e34e069-c520-4109-89fa-d17d9a0f70d1",
   "metadata": {},
   "outputs": [
    {
     "name": "stdin",
     "output_type": "stream",
     "text": [
      "Enter any number:  3\n"
     ]
    },
    {
     "name": "stdout",
     "output_type": "stream",
     "text": [
      "3 is a odd number\n"
     ]
    }
   ],
   "source": [
    "#5.Write a Python program to check whether a number is even or odd\n",
    "num=int(input(\"Enter any number: \"))\n",
    "if num%2==0:\n",
    "    print(f\"{num} is a even number\")\n",
    "else:\n",
    "    print(f\"{num} is a odd number\")"
   ]
  },
  {
   "cell_type": "code",
   "execution_count": 12,
   "id": "298f4050-0efc-4842-8fd5-3ad499d3a6e9",
   "metadata": {},
   "outputs": [
    {
     "name": "stdin",
     "output_type": "stream",
     "text": [
      "Enter any number:  2\n"
     ]
    },
    {
     "name": "stdout",
     "output_type": "stream",
     "text": [
      "The Square root of the number is :  4\n",
      "The Cube root of the number is :  8\n"
     ]
    }
   ],
   "source": [
    "#6.Find the square and cube of a given number.\n",
    "num=int(input(\"Enter any number: \"))\n",
    "sq=num*num\n",
    "cube=num*num*num\n",
    "print(\"The Square root of the number is : \",sq)\n",
    "print(\"The Cube root of the number is : \",cube)"
   ]
  },
  {
   "cell_type": "code",
   "execution_count": null,
   "id": "1f4db765-ef72-4ae5-b0e5-0696814ccd31",
   "metadata": {},
   "outputs": [],
   "source": []
  }
 ],
 "metadata": {
  "kernelspec": {
   "display_name": "Python 3 (ipykernel)",
   "language": "python",
   "name": "python3"
  },
  "language_info": {
   "codemirror_mode": {
    "name": "ipython",
    "version": 3
   },
   "file_extension": ".py",
   "mimetype": "text/x-python",
   "name": "python",
   "nbconvert_exporter": "python",
   "pygments_lexer": "ipython3",
   "version": "3.12.7"
  }
 },
 "nbformat": 4,
 "nbformat_minor": 5
}
